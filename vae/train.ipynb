{
 "cells": [
  {
   "cell_type": "code",
   "execution_count": null,
   "metadata": {},
   "outputs": [],
   "source": [
    "!git clone https://github.com/ratinac-nikola/deepRec"
   ]
  },
  {
   "cell_type": "code",
   "execution_count": 8,
   "metadata": {},
   "outputs": [],
   "source": [
    "import logging\n",
    "logger = logging.getLogger()\n",
    "logger.setLevel(logging.NOTSET)"
   ]
  },
  {
   "cell_type": "code",
   "execution_count": 9,
   "metadata": {},
   "outputs": [
    {
     "name": "stderr",
     "output_type": "stream",
     "text": [
      "DEBUG:data.dataset:Loaded pandas dataframe into memory\n",
      "DEBUG:data.dataset:Applying filter strategies to dataset\n",
      "DEBUG:data.dataset:Finished applying filter strategies to dataset\n",
      "DEBUG:data.dataset:Finished cleaning\n",
      "INFO:data.dataset:Created surprise dataset\n",
      "INFO:data.dataset:Finished building surprise trainset\n"
     ]
    }
   ],
   "source": [
    "from dataset import UserRatingsDataset\n",
    "from torch.utils.data import DataLoader\n",
    "\n",
    "cutoff = lambda x: 1.0 if x >= 3.5 else 0.0 # function for generating implicit ratings\n",
    "\n",
    "dataset = UserRatingsDataset(\"../data/ml-10m/ratings.csv\",threshold=50, rating_function=cutoff)\n",
    "train, valid, test = dataset.tvt_datasets()\n",
    "\n",
    "train = DataLoader(train, batch_size=100, num_workers=12)\n",
    "valid = DataLoader(valid, batch_size=100, num_workers=12)\n",
    "test = DataLoader(test, batch_size=100, num_workers=12)"
   ]
  },
  {
   "cell_type": "code",
   "execution_count": 10,
   "metadata": {},
   "outputs": [],
   "source": [
    "from model import Model\n",
    "model = Model(dataset.n_items, 200)"
   ]
  },
  {
   "cell_type": "code",
   "execution_count": 11,
   "metadata": {},
   "outputs": [
    {
     "name": "stderr",
     "output_type": "stream",
     "text": [
      "INFO:pytorch_lightning.utilities.rank_zero:GPU available: False, used: False\n",
      "INFO:pytorch_lightning.utilities.rank_zero:TPU available: False, using: 0 TPU cores\n",
      "INFO:pytorch_lightning.utilities.rank_zero:IPU available: False, using: 0 IPUs\n",
      "INFO:pytorch_lightning.utilities.rank_zero:HPU available: False, using: 0 HPUs\n"
     ]
    }
   ],
   "source": [
    "import pytorch_lightning as pl\n",
    "from pytorch_lightning.callbacks import EarlyStopping\n",
    "\n",
    "trainer = pl.Trainer(\n",
    "    max_epochs=200,\n",
    "    log_every_n_steps=20,\n",
    "    callbacks=[EarlyStopping(monitor=\"ndcg@100\", mode=\"max\", patience=10)],\n",
    ")"
   ]
  },
  {
   "cell_type": "code",
   "execution_count": 12,
   "metadata": {},
   "outputs": [
    {
     "name": "stderr",
     "output_type": "stream",
     "text": [
      "INFO:pytorch_lightning.callbacks.model_summary:\n",
      "  | Name    | Type    | Params\n",
      "------------------------------------\n",
      "0 | drop    | Dropout | 0     \n",
      "1 | encoder | Encoder | 6.6 M \n",
      "2 | decoder | Decoder | 6.5 M \n",
      "------------------------------------\n",
      "13.2 M    Trainable params\n",
      "0         Non-trainable params\n",
      "13.2 M    Total params\n",
      "52.729    Total estimated model params size (MB)\n",
      "DEBUG:fsspec.local:open file: /home/nikola/projects/deepRec/vae/lightning_logs/version_9/hparams.yaml\n"
     ]
    },
    {
     "name": "stdout",
     "output_type": "stream",
     "text": [
      "Epoch 0: 100%|██████████| 349/349 [00:34<00:00, 10.18it/s, v_num=9]        "
     ]
    },
    {
     "name": "stderr",
     "output_type": "stream",
     "text": [
      "DEBUG:fsspec.local:open file: /home/nikola/projects/deepRec/vae/lightning_logs/version_9/hparams.yaml\n",
      "DEBUG:fsspec.local:open file: /home/nikola/projects/deepRec/vae/lightning_logs/version_9/metrics.csv\n"
     ]
    },
    {
     "name": "stdout",
     "output_type": "stream",
     "text": [
      "Epoch 0: 100%|██████████| 349/349 [00:53<00:00,  6.54it/s, v_num=9, ndcg@100=0.547, hr@1=0.794, hr@10=1.000]"
     ]
    },
    {
     "name": "stderr",
     "output_type": "stream",
     "text": [
      "DEBUG:fsspec.local:open file: /home/nikola/projects/deepRec/vae/lightning_logs/version_9/checkpoints/epoch=0-step=349.ckpt\n"
     ]
    },
    {
     "name": "stdout",
     "output_type": "stream",
     "text": [
      "Epoch 1: 100%|██████████| 349/349 [00:37<00:00,  9.19it/s, v_num=9, ndcg@100=0.547, hr@1=0.794, hr@10=1.000]"
     ]
    },
    {
     "name": "stderr",
     "output_type": "stream",
     "text": [
      "DEBUG:fsspec.local:open file: /home/nikola/projects/deepRec/vae/lightning_logs/version_9/hparams.yaml\n",
      "DEBUG:fsspec.local:open file: /home/nikola/projects/deepRec/vae/lightning_logs/version_9/metrics.csv\n"
     ]
    },
    {
     "name": "stdout",
     "output_type": "stream",
     "text": [
      "Epoch 1: 100%|██████████| 349/349 [00:58<00:00,  5.95it/s, v_num=9, ndcg@100=0.522, hr@1=0.725, hr@10=1.000]"
     ]
    },
    {
     "name": "stderr",
     "output_type": "stream",
     "text": [
      "DEBUG:fsspec.local:open file: /home/nikola/projects/deepRec/vae/lightning_logs/version_9/checkpoints/epoch=1-step=698.ckpt\n"
     ]
    },
    {
     "name": "stdout",
     "output_type": "stream",
     "text": [
      "Epoch 2:  56%|█████▌    | 196/349 [00:21<00:17,  8.96it/s, v_num=9, ndcg@100=0.522, hr@1=0.725, hr@10=1.000]"
     ]
    },
    {
     "name": "stderr",
     "output_type": "stream",
     "text": [
      "/home/nikola/projects/deepRec/env/lib/python3.10/site-packages/pytorch_lightning/trainer/call.py:52: UserWarning: Detected KeyboardInterrupt, attempting graceful shutdown...\n",
      "  rank_zero_warn(\"Detected KeyboardInterrupt, attempting graceful shutdown...\")\n",
      "DEBUG:fsspec.local:open file: /home/nikola/projects/deepRec/vae/lightning_logs/version_9/hparams.yaml\n",
      "DEBUG:fsspec.local:open file: /home/nikola/projects/deepRec/vae/lightning_logs/version_9/metrics.csv\n"
     ]
    }
   ],
   "source": [
    "trainer.fit(model, train, valid)"
   ]
  },
  {
   "cell_type": "code",
   "execution_count": 13,
   "metadata": {},
   "outputs": [
    {
     "name": "stderr",
     "output_type": "stream",
     "text": [
      "DEBUG:fsspec.local:open file: /home/nikola/projects/deepRec/vae/lightning_logs/version_9/hparams.yaml\n",
      "DEBUG:fsspec.local:open file: /home/nikola/projects/deepRec/vae/lightning_logs/version_9/metrics.csv\n"
     ]
    },
    {
     "name": "stdout",
     "output_type": "stream",
     "text": [
      "Testing DataLoader 0: 100%|██████████| 44/44 [00:15<00:00,  2.81it/s]"
     ]
    },
    {
     "name": "stderr",
     "output_type": "stream",
     "text": [
      "DEBUG:fsspec.local:open file: /home/nikola/projects/deepRec/vae/lightning_logs/version_9/hparams.yaml\n",
      "DEBUG:fsspec.local:open file: /home/nikola/projects/deepRec/vae/lightning_logs/version_9/metrics.csv\n"
     ]
    },
    {
     "name": "stdout",
     "output_type": "stream",
     "text": [
      "Testing DataLoader 0: 100%|██████████| 44/44 [00:15<00:00,  2.81it/s]"
     ]
    },
    {
     "name": "stderr",
     "output_type": "stream",
     "text": [
      "DEBUG:fsspec.local:open file: /home/nikola/projects/deepRec/vae/lightning_logs/version_9/hparams.yaml\n",
      "DEBUG:fsspec.local:open file: /home/nikola/projects/deepRec/vae/lightning_logs/version_9/metrics.csv\n"
     ]
    },
    {
     "name": "stdout",
     "output_type": "stream",
     "text": [
      "\n",
      "────────────────────────────────────────────────────────────────────────────────────────────────────────────────────────\n",
      "       Test metric             DataLoader 0\n",
      "────────────────────────────────────────────────────────────────────────────────────────────────────────────────────────\n",
      "          hr@1              0.8624168634414673\n",
      "          hr@10                     1.0\n",
      "        ndcg@100            0.5357111096382141\n",
      "────────────────────────────────────────────────────────────────────────────────────────────────────────────────────────\n"
     ]
    },
    {
     "data": {
      "text/plain": [
       "[{'ndcg@100': 0.5357111096382141, 'hr@1': 0.8624168634414673, 'hr@10': 1.0}]"
      ]
     },
     "execution_count": 13,
     "metadata": {},
     "output_type": "execute_result"
    }
   ],
   "source": [
    "trainer.test(model, test)"
   ]
  }
 ],
 "metadata": {
  "kernelspec": {
   "display_name": "env",
   "language": "python",
   "name": "python3"
  },
  "language_info": {
   "codemirror_mode": {
    "name": "ipython",
    "version": 3
   },
   "file_extension": ".py",
   "mimetype": "text/x-python",
   "name": "python",
   "nbconvert_exporter": "python",
   "pygments_lexer": "ipython3",
   "version": "3.10.6"
  },
  "orig_nbformat": 4
 },
 "nbformat": 4,
 "nbformat_minor": 2
}
