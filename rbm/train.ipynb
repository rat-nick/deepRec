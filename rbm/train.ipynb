{
 "cells": [
  {
   "cell_type": "code",
   "execution_count": 6,
   "metadata": {},
   "outputs": [],
   "source": [
    "from sklearn.model_selection import train_test_split\n",
    "import torch\n",
    "import config"
   ]
  },
  {
   "cell_type": "code",
   "execution_count": null,
   "metadata": {},
   "outputs": [],
   "source": [
    "from dataset import Dataset\n",
    "dataset = Dataset()\n",
    "trainset, testset = train_test_split(dataset.getDatasetAsTensor(), train_size=0.1)\n",
    "trainset"
   ]
  },
  {
   "cell_type": "code",
   "execution_count": 12,
   "metadata": {},
   "outputs": [],
   "source": [
    "from rbm import RBM\n",
    "rbm = RBM(trainset.shape[1], hidden_units=10,)"
   ]
  },
  {
   "cell_type": "code",
   "execution_count": null,
   "metadata": {},
   "outputs": [],
   "source": [
    "for epoch in range(1, config.epochs + 1):\n",
    "    i = 1\n",
    "    for case in trainset:\n",
    "\n",
    "        badSample = case\n",
    "        goodSample = case\n",
    "\n",
    "        for k in range(10):\n",
    "            _, hk = rbm.sample_h(badSample)  # forward pass\n",
    "            _, badSample = rbm.sample_v(hk)  # backward pass\n",
    "\n",
    "        rbm.train(goodSample, badSample)\n",
    "        print(f\"Case {i} done\")\n",
    "        i += 1\n",
    "    print(f\"Epoch {epoch} done.\", end=\" \")\n"
   ]
  }
 ],
 "metadata": {
  "interpreter": {
   "hash": "31ef4494518237c4d127691515565a6a726fc1a4eafd76e4f455b7163c77bc81"
  },
  "kernelspec": {
   "display_name": "Python 3.8.10 ('env': venv)",
   "language": "python",
   "name": "python3"
  },
  "language_info": {
   "codemirror_mode": {
    "name": "ipython",
    "version": 3
   },
   "file_extension": ".py",
   "mimetype": "text/x-python",
   "name": "python",
   "nbconvert_exporter": "python",
   "pygments_lexer": "ipython3",
   "version": "3.8.10"
  },
  "orig_nbformat": 4
 },
 "nbformat": 4,
 "nbformat_minor": 2
}
