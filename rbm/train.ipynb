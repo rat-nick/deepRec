{
 "cells": [
  {
   "cell_type": "code",
   "execution_count": 6,
   "metadata": {},
   "outputs": [
    {
     "ename": "ImportError",
     "evalue": "attempted relative import with no known parent package",
     "output_type": "error",
     "traceback": [
      "\u001b[0;31m---------------------------------------------------------------------------\u001b[0m",
      "\u001b[0;31mImportError\u001b[0m                               Traceback (most recent call last)",
      "\u001b[1;32m/home/nikola/projects/deepRec/rbm/train.ipynb Cell 1\u001b[0m in \u001b[0;36m<cell line: 1>\u001b[0;34m()\u001b[0m\n\u001b[0;32m----> <a href='vscode-notebook-cell:/home/nikola/projects/deepRec/rbm/train.ipynb#W0sZmlsZQ%3D%3D?line=0'>1</a>\u001b[0m \u001b[39mfrom\u001b[39;00m \u001b[39m.\u001b[39;00m\u001b[39m.\u001b[39;00m\u001b[39mdata\u001b[39;00m \u001b[39mimport\u001b[39;00m dataset\n\u001b[1;32m      <a href='vscode-notebook-cell:/home/nikola/projects/deepRec/rbm/train.ipynb#W0sZmlsZQ%3D%3D?line=1'>2</a>\u001b[0m ds \u001b[39m=\u001b[39m dataset\u001b[39m.\u001b[39mMyDataset(\u001b[39m\"\u001b[39m\u001b[39mml-100k\u001b[39m\u001b[39m\"\u001b[39m)\n\u001b[1;32m      <a href='vscode-notebook-cell:/home/nikola/projects/deepRec/rbm/train.ipynb#W0sZmlsZQ%3D%3D?line=3'>4</a>\u001b[0m ds\u001b[39m.\u001b[39mtrainTestValidationSplit()\n",
      "\u001b[0;31mImportError\u001b[0m: attempted relative import with no known parent package"
     ]
    }
   ],
   "source": [
    "from ..data import dataset\n",
    "ds = dataset.MyDataset(\"ml-100k\")\n",
    "\n",
    "ds.trainTestValidationSplit()"
   ]
  }
 ],
 "metadata": {
  "kernelspec": {
   "display_name": "master",
   "language": "python",
   "name": "python3"
  },
  "language_info": {
   "codemirror_mode": {
    "name": "ipython",
    "version": 3
   },
   "file_extension": ".py",
   "mimetype": "text/x-python",
   "name": "python",
   "nbconvert_exporter": "python",
   "pygments_lexer": "ipython3",
   "version": "3.8.10 (default, Nov 14 2022, 12:59:47) \n[GCC 9.4.0]"
  },
  "orig_nbformat": 4,
  "vscode": {
   "interpreter": {
    "hash": "d455cf6aac0e24a365e2bb9047524329b9a2afd5e2a351689ff84ea1d2030951"
   }
  }
 },
 "nbformat": 4,
 "nbformat_minor": 2
}
