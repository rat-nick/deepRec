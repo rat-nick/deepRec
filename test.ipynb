{
 "cells": [
  {
   "cell_type": "code",
   "execution_count": 1,
   "metadata": {},
   "outputs": [],
   "source": [
    "from data.EvaluationData import EvaluationData\n",
    "from data.dataset import MyDataset\n",
    "\n",
    "dataset = MyDataset(\n",
    "    data_dir=\"ml-1m\",\n",
    "    ratings_path=\"ratings.dat\",\n",
    "    ratings_sep=\"::\",\n",
    "    items_path=\"movies.dat\",\n",
    "    items_sep=\"::\",\n",
    ")"
   ]
  },
  {
   "cell_type": "code",
   "execution_count": 3,
   "metadata": {},
   "outputs": [],
   "source": [
    "from recommender.algo.RBMAlgorithm import RBMAlgorithm\n",
    "from recommender.model.RBM import RBM\n",
    "from Evaluator import Evaluator\n",
    "model = RBM(0)\n",
    "model.load_model_from_file('rbm.pt')\n",
    "rbmAlgo = RBMAlgorithm(dataset = dataset, model=model)\n",
    "\n",
    "dataset.trainTestValidationSplit()\n",
    "\n"
   ]
  },
  {
   "cell_type": "code",
   "execution_count": 5,
   "metadata": {},
   "outputs": [
    {
     "ename": "RuntimeError",
     "evalue": "self must be a matrix",
     "output_type": "error",
     "traceback": [
      "\u001b[0;31m---------------------------------------------------------------------------\u001b[0m",
      "\u001b[0;31mRuntimeError\u001b[0m                              Traceback (most recent call last)",
      "Cell \u001b[0;32mIn [5], line 1\u001b[0m\n\u001b[0;32m----> 1\u001b[0m rbmAlgo\u001b[39m.\u001b[39;49mrecommendationsForUser(\u001b[39m10\u001b[39;49m)\n",
      "File \u001b[0;32m~/master-rad/recommender/algo/RBMAlgorithm.py:56\u001b[0m, in \u001b[0;36mRBMAlgorithm.recommendationsForUser\u001b[0;34m(self, user)\u001b[0m\n\u001b[1;32m     54\u001b[0m t \u001b[39m=\u001b[39m torch\u001b[39m.\u001b[39mzeros((\u001b[39mself\u001b[39m\u001b[39m.\u001b[39mdataset\u001b[39m.\u001b[39mnItems, \u001b[39m10\u001b[39m))\n\u001b[1;32m     55\u001b[0m t[ratings[\u001b[39m\"\u001b[39m\u001b[39mitem\u001b[39m\u001b[39m\"\u001b[39m]\u001b[39m.\u001b[39mto_numpy(), ratings[\u001b[39m\"\u001b[39m\u001b[39mrating\u001b[39m\u001b[39m\"\u001b[39m]\u001b[39m.\u001b[39mto_numpy() \u001b[39m-\u001b[39m \u001b[39m1\u001b[39m] \u001b[39m=\u001b[39m \u001b[39m1.0\u001b[39m\n\u001b[0;32m---> 56\u001b[0m y \u001b[39m=\u001b[39m \u001b[39mself\u001b[39m\u001b[39m.\u001b[39mmodel\u001b[39m.\u001b[39mreconstruct(t)\n\u001b[1;32m     57\u001b[0m y \u001b[39m=\u001b[39m onehot_to_ratings(y)\n\u001b[1;32m     59\u001b[0m y\u001b[39m.\u001b[39msort(key\u001b[39m=\u001b[39m\u001b[39mlambda\u001b[39;00m x: x[\u001b[39m1\u001b[39m], reverse\u001b[39m=\u001b[39m\u001b[39mTrue\u001b[39;00m)\n",
      "File \u001b[0;32m~/master-rad/recommender/model/RBM.py:266\u001b[0m, in \u001b[0;36mRBM.reconstruct\u001b[0;34m(self, v)\u001b[0m\n\u001b[1;32m    260\u001b[0m \u001b[39mdef\u001b[39;00m \u001b[39mreconstruct\u001b[39m(\u001b[39mself\u001b[39m, v: torch\u001b[39m.\u001b[39mTensor) \u001b[39m-\u001b[39m\u001b[39m>\u001b[39m torch\u001b[39m.\u001b[39mTensor:\n\u001b[1;32m    261\u001b[0m     \u001b[39m\"\"\"\u001b[39;00m\n\u001b[1;32m    262\u001b[0m \u001b[39m    For a given v input tensor, let the RBM reconstruct it\u001b[39;00m\n\u001b[1;32m    263\u001b[0m \u001b[39m    by performing a forward and backward pass\u001b[39;00m\n\u001b[1;32m    264\u001b[0m \u001b[39m    :arg v: the input tensor\u001b[39;00m\n\u001b[1;32m    265\u001b[0m \u001b[39m    \"\"\"\u001b[39;00m\n\u001b[0;32m--> 266\u001b[0m     ph, h \u001b[39m=\u001b[39m \u001b[39mself\u001b[39;49m\u001b[39m.\u001b[39;49mforward_pass(v)\n\u001b[1;32m    267\u001b[0m     ret \u001b[39m=\u001b[39m \u001b[39mself\u001b[39m\u001b[39m.\u001b[39mbackward_pass(ph)\n\u001b[1;32m    269\u001b[0m     \u001b[39mreturn\u001b[39;00m ret\n",
      "File \u001b[0;32m~/master-rad/recommender/model/RBM.py:133\u001b[0m, in \u001b[0;36mRBM.forward_pass\u001b[0;34m(self, v, activation, sampler)\u001b[0m\n\u001b[1;32m    109\u001b[0m \u001b[39m\"\"\"\u001b[39;00m\n\u001b[1;32m    110\u001b[0m \u001b[39mPerforms a forward pass given the input tensor `v`\u001b[39;00m\n\u001b[1;32m    111\u001b[0m \n\u001b[0;32m   (...)\u001b[0m\n\u001b[1;32m    124\u001b[0m \u001b[39m    the probability tensor and the sampled probability tensor of the hidden layer `h`\u001b[39;00m\n\u001b[1;32m    125\u001b[0m \u001b[39m\"\"\"\u001b[39;00m\n\u001b[1;32m    126\u001b[0m \u001b[39m# flatten the input tensor\u001b[39;00m\n\u001b[1;32m    127\u001b[0m \u001b[39m# if len(v.shape) > 1:\u001b[39;00m\n\u001b[1;32m    128\u001b[0m \u001b[39m#    v = v.flatten()\u001b[39;00m\n\u001b[1;32m    129\u001b[0m \n\u001b[1;32m    130\u001b[0m \u001b[39m# XXX: get rid of flattening\u001b[39;00m\n\u001b[1;32m    131\u001b[0m \u001b[39m# v = v.flatten(start_dim=1)\u001b[39;00m\n\u001b[0;32m--> 133\u001b[0m a \u001b[39m=\u001b[39m torch\u001b[39m.\u001b[39;49mmm(v\u001b[39m.\u001b[39;49mflatten(\u001b[39m-\u001b[39;49m\u001b[39m2\u001b[39;49m), \u001b[39mself\u001b[39;49m\u001b[39m.\u001b[39;49mw\u001b[39m.\u001b[39;49mflatten(end_dim\u001b[39m=\u001b[39;49m\u001b[39m1\u001b[39;49m))\n\u001b[1;32m    135\u001b[0m a \u001b[39m=\u001b[39m \u001b[39mself\u001b[39m\u001b[39m.\u001b[39mh \u001b[39m+\u001b[39m a\n\u001b[1;32m    137\u001b[0m ph \u001b[39m=\u001b[39m activation(a)\n",
      "\u001b[0;31mRuntimeError\u001b[0m: self must be a matrix"
     ]
    }
   ],
   "source": [
    "rbmAlgo.recommendationsForUser(10)"
   ]
  }
 ],
 "metadata": {
  "kernelspec": {
   "display_name": "Python 3.8.10 ('master')",
   "language": "python",
   "name": "python3"
  },
  "language_info": {
   "codemirror_mode": {
    "name": "ipython",
    "version": 3
   },
   "file_extension": ".py",
   "mimetype": "text/x-python",
   "name": "python",
   "nbconvert_exporter": "python",
   "pygments_lexer": "ipython3",
   "version": "3.8.10 (default, Nov 14 2022, 12:59:47) \n[GCC 9.4.0]"
  },
  "orig_nbformat": 4,
  "vscode": {
   "interpreter": {
    "hash": "d455cf6aac0e24a365e2bb9047524329b9a2afd5e2a351689ff84ea1d2030951"
   }
  }
 },
 "nbformat": 4,
 "nbformat_minor": 2
}
