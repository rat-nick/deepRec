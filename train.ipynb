{
 "cells": [
  {
   "cell_type": "code",
   "execution_count": 6,
   "metadata": {},
   "outputs": [
    {
     "name": "stdout",
     "output_type": "stream",
     "text": [
      "CUDA available! Setting default tensor type to cuda.FloatTensor\n",
      "Succesfully read data!\n",
      "Performed data split!\n"
     ]
    }
   ],
   "source": [
    "from data.dataset import MyDataset\n",
    "\n",
    "dataset = MyDataset(\n",
    "    data_dir=\"ml-10m\",\n",
    "    ratings_path=\"ratings.csv\",\n",
    "    ratings_sep=\"::\",\n",
    "    items_path=\"movies.csv\",\n",
    "    items_sep=\"::\",\n",
    ")\n",
    "print(\"Succesfully read data!\")\n",
    "dataset.trainTestValidationSplit()\n",
    "print(\"Performed data split!\")\n",
    "\n"
   ]
  },
  {
   "cell_type": "code",
   "execution_count": 8,
   "metadata": {},
   "outputs": [
    {
     "name": "stdout",
     "output_type": "stream",
     "text": [
      "Enter batch size:\n",
      "Epoch\t--------------------\tRMSE\tMAE\n",
      "1\t####"
     ]
    },
    {
     "ename": "KeyboardInterrupt",
     "evalue": "",
     "output_type": "error",
     "traceback": [
      "\u001b[0;31m---------------------------------------------------------------------------\u001b[0m",
      "\u001b[0;31mKeyboardInterrupt\u001b[0m                         Traceback (most recent call last)",
      "Cell \u001b[0;32mIn [8], line 6\u001b[0m\n\u001b[1;32m      3\u001b[0m bs \u001b[38;5;241m=\u001b[39m \u001b[38;5;241m1024\u001b[39m\n\u001b[1;32m      4\u001b[0m rbm \u001b[38;5;241m=\u001b[39m RBMAlgorithm(verbose\u001b[38;5;241m=\u001b[39m\u001b[38;5;28;01mTrue\u001b[39;00m, device\u001b[38;5;241m=\u001b[39m\u001b[38;5;124m\"\u001b[39m\u001b[38;5;124mcuda\u001b[39m\u001b[38;5;124m\"\u001b[39m, n_hidden\u001b[38;5;241m=\u001b[39m\u001b[38;5;241m200\u001b[39m, batch_size\u001b[38;5;241m=\u001b[39mbs)\n\u001b[0;32m----> 6\u001b[0m \u001b[43mrbm\u001b[49m\u001b[38;5;241;43m.\u001b[39;49m\u001b[43mfit\u001b[49m\u001b[43m(\u001b[49m\u001b[43mdataset\u001b[49m\u001b[43m)\u001b[49m\n",
      "File \u001b[0;32m~/master-rad/recommender/algo/RBMAlgorithm.py:55\u001b[0m, in \u001b[0;36mRBMAlgorithm.fit\u001b[0;34m(self, data)\u001b[0m\n\u001b[1;32m     49\u001b[0m \u001b[39mdef\u001b[39;00m \u001b[39mfit\u001b[39m(\u001b[39mself\u001b[39m, data: MyDataset):\n\u001b[1;32m     50\u001b[0m     \u001b[39m# RecommenderBase.fit(self, trainset)\u001b[39;00m\n\u001b[1;32m     51\u001b[0m     \u001b[39m# self.trainset = trainset\u001b[39;00m\n\u001b[1;32m     52\u001b[0m     \u001b[39m# self.ratings = ratingsToTensor(trainset)\u001b[39;00m\n\u001b[1;32m     54\u001b[0m     \u001b[39mself\u001b[39m\u001b[39m.\u001b[39mmodel\u001b[39m.\u001b[39mn_visible \u001b[39m=\u001b[39m data\u001b[39m.\u001b[39mnItems \u001b[39m*\u001b[39m \u001b[39m10\u001b[39m\n\u001b[0;32m---> 55\u001b[0m     \u001b[39mself\u001b[39;49m\u001b[39m.\u001b[39;49mmodel\u001b[39m.\u001b[39;49mfit(data)\n",
      "File \u001b[0;32m~/master-rad/recommender/model/RBM.py:339\u001b[0m, in \u001b[0;36mRBM.fit\u001b[0;34m(self, data, t, decay)\u001b[0m\n\u001b[1;32m    337\u001b[0m     \u001b[39mprint\u001b[39m(epoch, end\u001b[39m=\u001b[39m\u001b[39m\"\u001b[39m\u001b[39m\\t\u001b[39;00m\u001b[39m\"\u001b[39m, flush\u001b[39m=\u001b[39m\u001b[39mTrue\u001b[39;00m)\n\u001b[1;32m    338\u001b[0m current \u001b[39m=\u001b[39m \u001b[39m0\u001b[39m\n\u001b[0;32m--> 339\u001b[0m \u001b[39mfor\u001b[39;00m minibatch \u001b[39min\u001b[39;00m data\u001b[39m.\u001b[39mbatches(data\u001b[39m.\u001b[39mtrainData, \u001b[39mself\u001b[39m\u001b[39m.\u001b[39mbatch_size):\n\u001b[1;32m    340\u001b[0m     \u001b[39mself\u001b[39m\u001b[39m.\u001b[39mapply_gradient(\n\u001b[1;32m    341\u001b[0m         minibatch\u001b[39m=\u001b[39mminibatch,\n\u001b[1;32m    342\u001b[0m         t\u001b[39m=\u001b[39mt,\n\u001b[1;32m    343\u001b[0m         decay\u001b[39m=\u001b[39mdecay,\n\u001b[1;32m    344\u001b[0m     )\n\u001b[1;32m    345\u001b[0m     current \u001b[39m+\u001b[39m\u001b[39m=\u001b[39m \u001b[39m1\u001b[39m\n",
      "File \u001b[0;32m~/master-rad/data/dataset.py:148\u001b[0m, in \u001b[0;36mBatcher.next\u001b[0;34m(self)\u001b[0m\n\u001b[1;32m    146\u001b[0m current \u001b[39m=\u001b[39m \u001b[39m0\u001b[39m\n\u001b[1;32m    147\u001b[0m \u001b[39mfor\u001b[39;00m u \u001b[39min\u001b[39;00m users:\n\u001b[0;32m--> 148\u001b[0m     userRatings \u001b[39m=\u001b[39m \u001b[39mself\u001b[39;49m\u001b[39m.\u001b[39;49mdf[\u001b[39mself\u001b[39;49m\u001b[39m.\u001b[39;49mdf[\u001b[39m\"\u001b[39;49m\u001b[39muser\u001b[39;49m\u001b[39m\"\u001b[39;49m] \u001b[39m==\u001b[39;49m u]\n\u001b[1;32m    149\u001b[0m     t[\n\u001b[1;32m    150\u001b[0m         current,\n\u001b[1;32m    151\u001b[0m         userRatings[\u001b[39m\"\u001b[39m\u001b[39mitem\u001b[39m\u001b[39m\"\u001b[39m]\u001b[39m.\u001b[39mto_numpy(),\n\u001b[1;32m    152\u001b[0m         userRatings[\u001b[39m\"\u001b[39m\u001b[39mrating\u001b[39m\u001b[39m\"\u001b[39m]\u001b[39m.\u001b[39mto_numpy() \u001b[39m-\u001b[39m \u001b[39m1\u001b[39m,\n\u001b[1;32m    153\u001b[0m     ] \u001b[39m=\u001b[39m \u001b[39m1.0\u001b[39m\n\u001b[1;32m    154\u001b[0m     current \u001b[39m+\u001b[39m\u001b[39m=\u001b[39m \u001b[39m1\u001b[39m\n",
      "File \u001b[0;32m~/envs/master/lib/python3.8/site-packages/pandas/core/frame.py:3496\u001b[0m, in \u001b[0;36mDataFrame.__getitem__\u001b[0;34m(self, key)\u001b[0m\n\u001b[1;32m   3494\u001b[0m \u001b[39m# Do we have a (boolean) 1d indexer?\u001b[39;00m\n\u001b[1;32m   3495\u001b[0m \u001b[39mif\u001b[39;00m com\u001b[39m.\u001b[39mis_bool_indexer(key):\n\u001b[0;32m-> 3496\u001b[0m     \u001b[39mreturn\u001b[39;00m \u001b[39mself\u001b[39;49m\u001b[39m.\u001b[39;49m_getitem_bool_array(key)\n\u001b[1;32m   3498\u001b[0m \u001b[39m# We are left with two options: a single key, and a collection of keys,\u001b[39;00m\n\u001b[1;32m   3499\u001b[0m \u001b[39m# We interpret tuples as collections only for non-MultiIndex\u001b[39;00m\n\u001b[1;32m   3500\u001b[0m is_single_key \u001b[39m=\u001b[39m \u001b[39misinstance\u001b[39m(key, \u001b[39mtuple\u001b[39m) \u001b[39mor\u001b[39;00m \u001b[39mnot\u001b[39;00m is_list_like(key)\n",
      "File \u001b[0;32m~/envs/master/lib/python3.8/site-packages/pandas/core/frame.py:3550\u001b[0m, in \u001b[0;36mDataFrame._getitem_bool_array\u001b[0;34m(self, key)\u001b[0m\n\u001b[1;32m   3547\u001b[0m \u001b[39m# check_bool_indexer will throw exception if Series key cannot\u001b[39;00m\n\u001b[1;32m   3548\u001b[0m \u001b[39m# be reindexed to match DataFrame rows\u001b[39;00m\n\u001b[1;32m   3549\u001b[0m key \u001b[39m=\u001b[39m check_bool_indexer(\u001b[39mself\u001b[39m\u001b[39m.\u001b[39mindex, key)\n\u001b[0;32m-> 3550\u001b[0m indexer \u001b[39m=\u001b[39m key\u001b[39m.\u001b[39;49mnonzero()[\u001b[39m0\u001b[39m]\n\u001b[1;32m   3551\u001b[0m \u001b[39mreturn\u001b[39;00m \u001b[39mself\u001b[39m\u001b[39m.\u001b[39m_take_with_is_copy(indexer, axis\u001b[39m=\u001b[39m\u001b[39m0\u001b[39m)\n",
      "\u001b[0;31mKeyboardInterrupt\u001b[0m: "
     ]
    }
   ],
   "source": [
    "from recommender.algo.RBMAlgorithm import RBMAlgorithm\n",
    "print(\"Enter batch size:\")\n",
    "bs = 1024\n",
    "rbm = RBMAlgorithm(verbose=True, device=\"cuda\", n_hidden=200, batch_size=bs)\n",
    "\n",
    "rbm.fit(dataset)"
   ]
  }
 ],
 "metadata": {
  "kernelspec": {
   "display_name": "Python 3.8.10 ('master')",
   "language": "python",
   "name": "python3"
  },
  "language_info": {
   "codemirror_mode": {
    "name": "ipython",
    "version": 3
   },
   "file_extension": ".py",
   "mimetype": "text/x-python",
   "name": "python",
   "nbconvert_exporter": "python",
   "pygments_lexer": "ipython3",
   "version": "3.8.10"
  },
  "orig_nbformat": 4,
  "vscode": {
   "interpreter": {
    "hash": "d455cf6aac0e24a365e2bb9047524329b9a2afd5e2a351689ff84ea1d2030951"
   }
  }
 },
 "nbformat": 4,
 "nbformat_minor": 2
}
