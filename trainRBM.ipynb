{
    "cells": [
        {
            "cell_type": "code",
            "execution_count": 1,
            "metadata": {},
            "outputs": [
                {
                    "name": "stdout",
                    "output_type": "stream",
                    "text": [
                        "CUDA available! Setting default tensor type to cuda.FloatTensor\n",
                        "Succesfully read data!\n",
                        "Performed data split!\n"
                    ]
                }
            ],
            "source": [
                "from data.dataset import MyDataset\n",
                "\n",
                "dataset = MyDataset(\n",
                "    data_dir=\"ml-20m\",\n",
                "    ratings_path=\"ratings.csv\",\n",
                "    ratings_sep=\",\",\n",
                "    items_path=\"movies.csv\",\n",
                "    items_sep=\",\",\n",
                ")\n",
                "print(\"Succesfully read data!\")\n",
                "dataset.trainTestValidationSplit()\n",
                "print(\"Performed data split!\")\n",
                "\n"
            ]
        },
        {
            "cell_type": "code",
            "execution_count": 2,
            "metadata": {},
            "outputs": [
                {
                    "name": "stdout",
                    "output_type": "stream",
                    "text": [
                        "#####\t--------------------\tTRAIN\t\t\t\tVALIDATION\n",
                        "Epoch\t--------------------\tRMSE\t\tMAE\t\tRMSE\t\tMAE\n",
                        "1\t###################\t3.314977\t2.610735\t2.697937\t2.036019\t\n",
                        "2\t###################\t3.197321\t2.496515\t2.670238\t2.009279\t\n",
                        "3\t###################\t3.190902\t2.486587\t2.683063\t2.020785\t\n",
                        "4\t###################\t3.186657\t2.484583\t2.676088\t2.015586\t\n",
                        "5\t###################\t3.204427\t2.502306\t2.687032\t2.022525\t\n",
                        "6\t###################\t3.191701\t2.485455\t2.673807\t2.013541\t\n",
                        "7\t###################\t3.168986\t2.468790\t2.666529\t2.011528\t\n",
                        "8\t###################\t3.191676\t2.487562\t2.674777\t2.013987\t\n",
                        "9\t###############"
                    ]
                }
            ],
            "source": [
                "from recommender.model.RBM import RBM\n",
                "\n",
                "bs = 100\n",
                "\n",
                "rbm = RBM(\n",
                "    n_visible=dataset.nItems,\n",
                "    ratings=10,\n",
                "    verbose=True,\n",
                "    device=\"cuda\",\n",
                "    n_hidden=100,\n",
                "    batch_size=bs,\n",
                "    learning_rate=1e-3,\n",
                "    early_stopping=True,\n",
                "    max_epoch=200,\n",
                "    #l1=0.9,\n",
                "    #l2=1e-5,\n",
                "    #sparsity=0.02,\n",
                "    patience=5,\n",
                "    #momentum=0.2\n",
                ")\n",
                "\n",
                "rbm.save_model_to_file(\"dummyRBM.pt\")\n",
                "\n",
                "rbm.fit(dataset)\n"
            ]
        },
        {
            "cell_type": "code",
            "execution_count": null,
            "metadata": {},
            "outputs": [],
            "source": [
                "from recommender.model.RBM import RBM\n",
                "\n",
                "# otherRbm = RBM(\n",
                "#     n_visible=dataset.nItems,\n",
                "#     ratings=10,\n",
                "#     verbose=True,\n",
                "#     device=\"cuda\", # CUDA is not available\n",
                "#     n_hidden=200,\n",
                "#     batch_size=10,\n",
                "#     learning_rate=1e-6,\n",
                "#     early_stopping=True,\n",
                "#     #momentum=0.3\n",
                "# )\n",
                "# nonTrained = RBM(\n",
                "#     n_visible=dataset.nItems,\n",
                "#     ratings=10,\n",
                "#     verbose=True,\n",
                "#     device=\"cuda\", # CUDA is not available\n",
                "#     n_hidden=200,\n",
                "#     batch_size=10,\n",
                "#     learning_rate=1e-6,\n",
                "#     early_stopping=True,\n",
                "#     #momentum=0.3\n",
                "# )\n",
                "# otherRbm.data = dataset\n",
                "# nonTrained.data = dataset\n",
                "# otherRbm.load_model_from_file(\"rbm1672767522.2462983.pt\", device=\"cuda\")\n",
                "\n",
                "# print(otherRbm.calculate_errors('test'))\n",
                "# print(nonTrained.calculate_errors('test'))"
            ]
        }
    ],
    "metadata": {
        "kernelspec": {
            "display_name": "Python 3.8.10 ('master')",
            "language": "python",
            "name": "python3"
        },
        "language_info": {
            "codemirror_mode": {
                "name": "ipython",
                "version": 3
            },
            "file_extension": ".py",
            "mimetype": "text/x-python",
            "name": "python",
            "nbconvert_exporter": "python",
            "pygments_lexer": "ipython3",
            "version": "3.8.10"
        },
        "orig_nbformat": 4,
        "vscode": {
            "interpreter": {
                "hash": "d455cf6aac0e24a365e2bb9047524329b9a2afd5e2a351689ff84ea1d2030951"
            }
        }
    },
    "nbformat": 4,
    "nbformat_minor": 2
}
