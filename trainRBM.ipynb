{
 "cells": [
  {
   "cell_type": "code",
   "execution_count": 2,
   "metadata": {},
   "outputs": [
    {
     "name": "stdout",
     "output_type": "stream",
     "text": [
      "Succesfully read data!\n",
      "Performed data split!\n"
     ]
    }
   ],
   "source": [
    "from data.dataset import MyDataset\n",
    "\n",
    "dataset = MyDataset(\n",
    "    data_dir=\"ml-20m\",\n",
    "    ratings_path=\"ratings.csv\",\n",
    "    ratings_sep=\",\",\n",
    "    items_path=\"movies.csv\",\n",
    "    items_sep=\",\",\n",
    ")\n",
    "print(\"Succesfully read data!\")\n",
    "dataset.trainTestValidationSplit()\n",
    "print(\"Performed data split!\")\n",
    "\n"
   ]
  },
  {
   "cell_type": "code",
   "execution_count": 4,
   "metadata": {},
   "outputs": [
    {
     "name": "stdout",
     "output_type": "stream",
     "text": [
      "#####\t--------------------\tTRAIN\t\t\t\tVALIDATION\n",
      "Epoch\t--------------------\tRMSE\t\tMAE\t\tRMSE\t\tMAE\n"
     ]
    }
   ],
   "source": [
    "from recommender.model.RBM import RBM\n",
    "\n",
    "bs = 128\n",
    "\n",
    "rbm = RBM(\n",
    "    n_visible=dataset.nItems,\n",
    "    ratings=10,\n",
    "    verbose=True,\n",
    "    device=\"cpu\", # CUDA is not available\n",
    "    n_hidden=10,\n",
    "    batch_size=bs,\n",
    "    learning_rate=1e-3,\n",
    "    early_stopping=True,\n",
    "    max_epoch=0,\n",
    "    #momentum=0.3\n",
    ")\n",
    "\n",
    "rbm.fit(dataset)\n",
    "rbm.save_model_to_file(\"dummyRBM.pt\")\n"
   ]
  },
  {
   "cell_type": "code",
   "execution_count": 4,
   "metadata": {},
   "outputs": [
    {
     "name": "stdout",
     "output_type": "stream",
     "text": [
      "(2.2932737308454567, 1.637447319552091)\n",
      "(6.330117214982494, 5.915747052248792)\n"
     ]
    }
   ],
   "source": [
    "otherRbm = RBM(\n",
    "    n_visible=dataset.nItems,\n",
    "    ratings=10,\n",
    "    verbose=True,\n",
    "    device=\"cpu\", # CUDA is not available\n",
    "    n_hidden=200,\n",
    "    batch_size=bs,\n",
    "    learning_rate=1e-6,\n",
    "    early_stopping=True,\n",
    "    #momentum=0.3\n",
    ")\n",
    "nonTrained = RBM(\n",
    "    n_visible=dataset.nItems,\n",
    "    ratings=10,\n",
    "    verbose=True,\n",
    "    device=\"cpu\", # CUDA is not available\n",
    "    n_hidden=200,\n",
    "    batch_size=bs,\n",
    "    learning_rate=1e-6,\n",
    "    early_stopping=True,\n",
    "    #momentum=0.3\n",
    ")\n",
    "otherRbm.data = dataset\n",
    "nonTrained.data = dataset\n",
    "otherRbm.load_model_from_file(\"rbm.pt\")\n",
    "\n",
    "print(otherRbm.calculate_errors('test'))\n",
    "print(nonTrained.calculate_errors('test'))"
   ]
  }
 ],
 "metadata": {
  "kernelspec": {
   "display_name": "Python 3.8.10 ('env': venv)",
   "language": "python",
   "name": "python3"
  },
  "language_info": {
   "codemirror_mode": {
    "name": "ipython",
    "version": 3
   },
   "file_extension": ".py",
   "mimetype": "text/x-python",
   "name": "python",
   "nbconvert_exporter": "python",
   "pygments_lexer": "ipython3",
   "version": "3.8.10"
  },
  "orig_nbformat": 4,
  "vscode": {
   "interpreter": {
    "hash": "1aa482445984bc0455280590cfbf8eb934398774afe74e8e7545deda5b650430"
   }
  }
 },
 "nbformat": 4,
 "nbformat_minor": 2
}
