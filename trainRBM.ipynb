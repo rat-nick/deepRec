{
    "cells": [
        {
            "cell_type": "code",
            "execution_count": 2,
            "metadata": {},
            "outputs": [
                {
                    "name": "stdout",
                    "output_type": "stream",
                    "text": [
                        "Succesfully read data!\n",
                        "Performed data split!\n"
                    ]
                }
            ],
            "source": [
                "from data.dataset import MyDataset\n",
                "\n",
                "dataset = MyDataset(\n",
                "    data_dir=\"ml-100k\",\n",
                "    ratings_path=\"u.data\",\n",
                "    ratings_sep=\"\\t\",\n",
                "    items_path=\"\",\n",
                "    items_sep=\"\",\n",
                ")\n",
                "print(\"Succesfully read data!\")\n",
                "dataset.trainTestValidationSplit()\n",
                "print(\"Performed data split!\")\n",
                "\n"
            ]
        },
        {
            "cell_type": "code",
            "execution_count": 4,
            "metadata": {},
            "outputs": [],
            "source": [
                "from recommender.model.RBM import RBM\n",
                "from pprint import pprint\n",
                "bs = 20\n",
                "\n",
                "rbm = RBM(\n",
                "    n_visible=dataset.nItems,\n",
                "    ratings=10,\n",
                "    verbose=True,\n",
                "    #device=\"cuda\",\n",
                "    n_hidden=100,\n",
                "    batch_size=bs,\n",
                "    learning_rate=1e-3,\n",
                "    early_stopping=True,\n",
                "    max_epoch=1000,\n",
                "    patience=5,\n",
                ")\n",
                "\n",
                "rbm.save_model_to_file(\"untrainedRBM.pt\")\n"
            ]
        },
        {
            "cell_type": "code",
            "execution_count": 5,
            "metadata": {},
            "outputs": [
                {
                    "name": "stdout",
                    "output_type": "stream",
                    "text": [
                        "#####\t--------------------\tTRAIN\t\t\t\tVALIDATION\n",
                        "Epoch\t--------------------\tRMSE\t\tMAE\t\tRMSE\t\tMAE\n",
                        "0\t###################\t3.690184\t2.980451\t3.566397\t2.809119\t\n",
                        "1\t###################\t3.248865\t2.509151\t2.817408\t2.101793\t\n",
                        "2\t###################\t3.034532\t2.306786\t2.619624\t1.914195\t\n",
                        "3\t###################\t2.926767\t2.206403\t2.585199\t1.903003\t\n",
                        "4\t###################\t2.954925\t2.219481\t2.545661\t1.868035\t\n",
                        "5\t###################\t2.888717\t2.168456\t2.510623\t1.853327\t\n",
                        "6\t###################\t2.890509\t2.164191\t2.547031\t1.884021\t\n",
                        "7\t###################\t2.889799\t2.162535\t2.474042\t1.795669\t\n",
                        "8\t###################\t2.877658\t2.157439\t2.487174\t1.836376\t\n",
                        "9\t###################\t2.863248\t2.139325\t2.531593\t1.874221\t\n",
                        "10\t###################\t2.836715\t2.120376\t2.463286\t1.821127\t\n",
                        "11\t###################\t2.806422\t2.086933\t2.455530\t1.802706\t\n",
                        "12\t###################\t2.920939\t2.192632\t2.485646\t1.823854\t\n",
                        "13\t###################\t2.837478\t2.127963\t2.479932\t1.831021\t\n",
                        "14\t###################\t2.796911\t2.084930\t2.488533\t1.839638\t\n",
                        "15\t###################\t2.908541\t2.178584\t2.465528\t1.822359\t\n",
                        "16\t###################\t2.911264\t2.180407\t2.466239\t1.821989\t\n",
                        "#####\t--------------------\tTRAIN\t\t\t\tVALIDATION\n",
                        "Epoch\t--------------------\tRMSE\t\tMAE\t\tRMSE\t\tMAE\n",
                        "17\t###################\t2.797270\t2.081668\t2.459311\t1.818062\t\n",
                        "18\t###################\t2.825706\t2.108348\t2.465172\t1.824608\t\n",
                        "19\t###################\t2.783813\t2.065603\t2.460227\t1.814286\t\n",
                        "20\t###################\t2.775709\t2.071380\t2.475585\t1.844771\t\n",
                        "21\t###################\t2.758505\t2.053253\t2.444292\t1.802872\t\n",
                        "22\t###################\t2.814481\t2.098825\t2.467038\t1.825500\t\n",
                        "23\t###################\t2.856601\t2.133543\t2.426029\t1.789602\t\n",
                        "24\t###################\t2.816729\t2.101036\t2.445966\t1.801534\t\n",
                        "25\t###################\t2.786699\t2.071349\t2.429824\t1.793245\t\n",
                        "26\t###################\t2.796081\t2.078828\t2.388513\t1.758138\t\n",
                        "27\t###################\t2.789031\t2.072297\t2.425184\t1.792511\t\n",
                        "28\t###################\t2.837537\t2.124269\t2.410156\t1.772881\t\n",
                        "29\t###################\t2.814708\t2.087758\t2.431794\t1.801959\t\n",
                        "30\t###################\t2.774531\t2.067902\t2.448512\t1.813156\t\n",
                        "31\t###################\t2.781355\t2.064735\t2.411420\t1.767728\t\n",
                        "#####\t--------------------\tTRAIN\t\t\t\tVALIDATION\n",
                        "Epoch\t--------------------\tRMSE\t\tMAE\t\tRMSE\t\tMAE\n",
                        "32\t###################\t2.777956\t2.056280\t2.446225\t1.823581\t\n",
                        "33\t###################\t2.781760\t2.077598\t2.426863\t1.800605\t\n",
                        "34\t###################\t2.831191\t2.095354\t2.388292\t1.752028\t\n",
                        "35\t###################\t2.771394\t2.053363\t2.435123\t1.797333\t\n",
                        "36\t###################\t2.784538\t2.075853\t2.426582\t1.787357\t\n",
                        "37\t###################\t2.823834\t2.098453\t2.439001\t1.796280\t\n",
                        "38\t###################\t2.742291\t2.036376\t2.475592\t1.836528\t\n",
                        "39\t###################\t2.762700\t2.043430\t2.396713\t1.763588\t\n",
                        "#####\t--------------------\tTRAIN\t\t\t\tVALIDATION\n",
                        "Epoch\t--------------------\tRMSE\t\tMAE\t\tRMSE\t\tMAE\n",
                        "40\t###################\t2.796262\t2.077274\t2.416335\t1.779189\t\n",
                        "41\t###################\t2.798838\t2.083128\t2.393702\t1.755808\t\n",
                        "42\t###################\t2.809972\t2.081615\t2.389678\t1.748948\t\n",
                        "43\t###################\t2.790503\t2.075726\t2.438553\t1.805022\t\n",
                        "44\t###################\t2.806064\t2.087690\t2.405824\t1.757202\t\n",
                        "#####\t--------------------\tTRAIN\t\t\t\tVALIDATION\n",
                        "Epoch\t--------------------\tRMSE\t\tMAE\t\tRMSE\t\tMAE\n",
                        "45\t###################\t2.807228\t2.084477\t2.360419\t1.727457\t\n",
                        "46\t###################\t2.796813\t2.078503\t2.477328\t1.839909\t\n",
                        "47\t###################\t2.772287\t2.057198\t2.436076\t1.804273\t\n",
                        "48\t###################\t2.785452\t2.067470\t2.444598\t1.814224\t\n",
                        "49\t###################\t2.739073\t2.023708\t2.427197\t1.789467\t\n",
                        "50\t###################\t2.729416\t2.023889\t2.403697\t1.776819\t\n"
                    ]
                }
            ],
            "source": [
                "rbm.fit(dataset)\n",
                "rbm.fit(dataset, t=3)\n",
                "rbm.fit(dataset, t=5)\n",
                "rbm.fit(dataset, t=7)\n",
                "rbm.fit(dataset, t=9)"
            ]
        },
        {
            "cell_type": "code",
            "execution_count": 6,
            "metadata": {},
            "outputs": [
                {
                    "data": {
                        "image/png": "[encoded data removed]",
                        "text/plain": [
                            "<Figure size 432x288 with 1 Axes>"
                        ]
                    },
                    "metadata": {
                        "needs_background": "light"
                    },
                    "output_type": "display_data"
                },
                {
                    "data": {
                        "image/png": "[encoded data removed]",
                        "text/plain": [
                            "<Figure size 432x288 with 1 Axes>"
                        ]
                    },
                    "metadata": {
                        "needs_background": "light"
                    },
                    "output_type": "display_data"
                }
            ],
            "source": [
                "import matplotlib.pyplot as plt\n",
                "\n",
                "plt.title(\"RMSE\")\n",
                "\n",
                "plt.plot(rbm.metrics.validRMSE)\n",
                "plt.plot(rbm.metrics.trainRMSE)\n",
                "plt.show()\n",
                "plt.plot(rbm.metrics.validMAE)\n",
                "plt.plot(rbm.metrics.trainMAE)\n",
                "plt.show()"
            ]
        },
        {
            "cell_type": "code",
            "execution_count": 7,
            "metadata": {},
            "outputs": [
                {
                    "data": {
                        "text/plain": [
                            "{'epoch': 45, 'value': 2.3604193490635734}"
                        ]
                    },
                    "execution_count": 7,
                    "metadata": {},
                    "output_type": "execute_result"
                }
            ],
            "source": [
                "rbm.metrics.bestRMSE"
            ]
        },
        {
            "cell_type": "code",
            "execution_count": 8,
            "metadata": {},
            "outputs": [
                {
                    "data": {
                        "text/plain": [
                            "{'epoch': 45, 'value': 1.7274574342720144}"
                        ]
                    },
                    "execution_count": 8,
                    "metadata": {},
                    "output_type": "execute_result"
                }
            ],
            "source": [
                "rbm.metrics.bestMAE"
            ]
        }
    ],
    "metadata": {
        "kernelspec": {
            "display_name": "env",
            "language": "python",
            "name": "python3"
        },
        "language_info": {
            "codemirror_mode": {
                "name": "ipython",
                "version": 3
            },
            "file_extension": ".py",
            "mimetype": "text/x-python",
            "name": "python",
            "nbconvert_exporter": "python",
            "pygments_lexer": "ipython3",
            "version": "3.8.10"
        },
        "orig_nbformat": 4,
        "vscode": {
            "interpreter": {
                "hash": "888dea709b3770e92a6f0e7ba5ac755abc965259ee652d7f5a19dc79535326db"
            }
        }
    },
    "nbformat": 4,
    "nbformat_minor": 2
}
