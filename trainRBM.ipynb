{
    "cells": [
        {
            "cell_type": "code",
            "execution_count": 15,
            "metadata": {},
            "outputs": [
                {
                    "name": "stdout",
                    "output_type": "stream",
                    "text": [
                        "CUDA available! Setting default tensor type to cuda.FloatTensor\n",
                        "Succesfully read data!\n",
                        "Performed data split!\n"
                    ]
                }
            ],
            "source": [
                "from data.dataset import MyDataset\n",
                "\n",
                "dataset = MyDataset(\n",
                "    data_dir=\"ml-10m\",\n",
                "    ratings_path=\"ratings.dat\",\n",
                "    ratings_sep=\"::\",\n",
                "    items_path=\"movies.dat\",\n",
                "    items_sep=\"::\",\n",
                ")\n",
                "print(\"Succesfully read data!\")\n",
                "dataset.trainTestValidationSplit()\n",
                "print(\"Performed data split!\")\n",
                "\n"
            ]
        },
        {
            "cell_type": "code",
            "execution_count": 16,
            "metadata": {},
            "outputs": [
                {
                    "name": "stdout",
                    "output_type": "stream",
                    "text": [
                        "#####\t--------------------\tTRAIN\t\t\t\tVALIDATION\n",
                        "Epoch\t--------------------\tRMSE\t\tMAE\t\tRMSE\t\tMAE\n",
                        "1\t###################\t2.926968\t2.278877\t2.204167\t1.609778\t\n",
                        "2\t###################\t2.901436\t2.260747\t2.158380\t1.577365\t\n",
                        "3\t###################\t3.014334\t2.358960\t2.230333\t1.626175\t\n",
                        "4\t###################\t2.943822\t2.305723\t2.167231\t1.583782\t\n",
                        "5\t###################\t2.948947\t2.309730\t2.168171\t1.581676\t\n",
                        "6\t###################\t2.961325\t2.316461\t2.190564\t1.607310\t\n",
                        "7\t###################\t2.953869\t2.306105\t2.192694\t1.602165\t\n",
                        "8\t###################\t2.989021\t2.337158\t2.143394\t1.562487\t\n",
                        "9\t###################\t2.978340\t2.332459\t2.189340\t1.600019\t\n",
                        "10\t###################\t2.994611\t2.347963\t2.191914\t1.598897\t\n",
                        "11\t###################\t2.935140\t2.291980\t2.146916\t1.564058\t\n",
                        "12\t###################\t2.988400\t2.346476\t2.181744\t1.598595\t\n",
                        "13\t###################\t2.996118\t2.350188\t2.174975\t1.588405\t"
                    ]
                }
            ],
            "source": [
                "from recommender.model.RBM import RBM\n",
                "\n",
                "bs = 10\n",
                "\n",
                "rbm = RBM(\n",
                "    n_visible=dataset.nItems,\n",
                "    ratings=10,\n",
                "    verbose=True,\n",
                "    device=\"cuda\",\n",
                "    n_hidden=100,\n",
                "    batch_size=bs,\n",
                "    learning_rate=1e-3,\n",
                "    early_stopping=True,\n",
                "    max_epoch=100,\n",
                "    l1=0.99,\n",
                "    l2=1e-3,\n",
                "    sparsity=0.05,\n",
                "    momentum=0.2\n",
                ")\n",
                "\n",
                "rbm.fit(dataset)\n",
                "rbm.save_model_to_file(\"dummyRBM.pt\")\n"
            ]
        },
        {
            "cell_type": "code",
            "execution_count": 14,
            "metadata": {},
            "outputs": [
                {
                    "name": "stdout",
                    "output_type": "stream",
                    "text": [
                        "(2.3424771174850614, 1.7257384326527978)\n",
                        "(3.653331524318655, 2.9556486306106367)\n"
                    ]
                }
            ],
            "source": [
                "otherRbm = RBM(\n",
                "    n_visible=dataset.nItems,\n",
                "    ratings=10,\n",
                "    verbose=True,\n",
                "    device=\"cuda\", # CUDA is not available\n",
                "    n_hidden=200,\n",
                "    batch_size=bs,\n",
                "    learning_rate=1e-6,\n",
                "    early_stopping=True,\n",
                "    #momentum=0.3\n",
                ")\n",
                "nonTrained = RBM(\n",
                "    n_visible=dataset.nItems,\n",
                "    ratings=10,\n",
                "    verbose=True,\n",
                "    device=\"cuda\", # CUDA is not available\n",
                "    n_hidden=200,\n",
                "    batch_size=bs,\n",
                "    learning_rate=1e-6,\n",
                "    early_stopping=True,\n",
                "    #momentum=0.3\n",
                ")\n",
                "otherRbm.data = dataset\n",
                "nonTrained.data = dataset\n",
                "otherRbm.load_model_from_file(\"rbm1669727649.4694445.pt\")\n",
                "\n",
                "print(otherRbm.calculate_errors('test'))\n",
                "print(nonTrained.calculate_errors('test'))"
            ]
        }
    ],
    "metadata": {
        "kernelspec": {
            "display_name": "Python 3.8.10 ('env': venv)",
            "language": "python",
            "name": "python3"
        },
        "language_info": {
            "codemirror_mode": {
                "name": "ipython",
                "version": 3
            },
            "file_extension": ".py",
            "mimetype": "text/x-python",
            "name": "python",
            "nbconvert_exporter": "python",
            "pygments_lexer": "ipython3",
            "version": "3.8.10"
        },
        "orig_nbformat": 4,
        "vscode": {
            "interpreter": {
                "hash": "1aa482445984bc0455280590cfbf8eb934398774afe74e8e7545deda5b650430"
            }
        }
    },
    "nbformat": 4,
    "nbformat_minor": 2
}