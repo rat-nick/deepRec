{
 "cells": [
  {
   "cell_type": "code",
   "execution_count": 2,
   "metadata": {},
   "outputs": [
    {
     "name": "stdout",
     "output_type": "stream",
     "text": [
      "Succesfully read data!\n",
      "Performed data split!\n"
     ]
    }
   ],
   "source": [
    "from data.dataset import MyDataset\n",
    "\n",
    "dataset = MyDataset(\n",
    "    data_dir=\"ml-1m\",\n",
    "    ratings_path=\"ratings.dat\",\n",
    "    ratings_sep=\"::\",\n",
    "    items_path=\"movies.dat\",\n",
    "    items_sep=\"::\",\n",
    ")\n",
    "print(\"Succesfully read data!\")\n",
    "dataset.trainTestValidationSplit()\n",
    "print(\"Performed data split!\")\n",
    "\n"
   ]
  },
  {
   "cell_type": "code",
   "execution_count": 3,
   "metadata": {},
   "outputs": [
    {
     "name": "stdout",
     "output_type": "stream",
     "text": [
      "#####\t--------------------\tTRAIN\t\t\t\tVALIDATION\n",
      "Epoch\t--------------------\tRMSE\t\tMAE\t\tRMSE\t\tMAE\n",
      "1\t###################\t2.760148\t2.068114\t2.302088\t1.659071\t\n",
      "2\t###################\t2.605148\t1.928576\t2.260925\t1.621826\t\n",
      "3\t###################\t2.606740\t1.927646\t2.298943\t1.650566\t\n",
      "4\t###################\t2.597691\t1.921302\t2.286750\t1.645055\t\n",
      "5\t###################\t2.597136\t1.917179\t2.298905\t1.657808\t\n",
      "6\t###################\t2.570747\t1.900742\t2.290838\t1.650750\t\n",
      "7\t###################\t2.580112\t1.903988\t2.298093\t1.654469\t\n",
      "8\t###################\t2.585014\t1.913450\t2.260491\t1.619562\t\n",
      "9\t###################\t2.594879\t1.918961\t2.267817\t1.628040\t\n",
      "10\t###################\t2.614905\t1.937402\t2.286337\t1.642713\t\n",
      "11\t###################\t2.599493\t1.923734\t2.317217\t1.676660\t\n",
      "12\t###################\t2.602357\t1.925863\t2.275617\t1.634522\t\n",
      "13\t###################\t2.599726\t1.920929\t2.309178\t1.665724\t"
     ]
    }
   ],
   "source": [
    "from recommender.model.RBM import RBM\n",
    "\n",
    "bs = 128\n",
    "\n",
    "rbm = RBM(\n",
    "    n_visible=dataset.nItems,\n",
    "    ratings=10,\n",
    "    verbose=True,\n",
    "    device=\"cpu\", # CUDA is not available\n",
    "    n_hidden=500,\n",
    "    batch_size=bs,\n",
    "    learning_rate=1e-3,\n",
    "    early_stopping=True,\n",
    "    #momentum=0.3\n",
    ")\n",
    "\n",
    "rbm.fit(dataset)\n"
   ]
  },
  {
   "cell_type": "code",
   "execution_count": 4,
   "metadata": {},
   "outputs": [
    {
     "name": "stdout",
     "output_type": "stream",
     "text": [
      "(2.2932737308454567, 1.637447319552091)\n",
      "(6.330117214982494, 5.915747052248792)\n"
     ]
    }
   ],
   "source": [
    "otherRbm = RBM(\n",
    "    n_visible=dataset.nItems,\n",
    "    ratings=10,\n",
    "    verbose=True,\n",
    "    device=\"cpu\", # CUDA is not available\n",
    "    n_hidden=200,\n",
    "    batch_size=bs,\n",
    "    learning_rate=1e-6,\n",
    "    early_stopping=True,\n",
    "    #momentum=0.3\n",
    ")\n",
    "nonTrained = RBM(\n",
    "    n_visible=dataset.nItems,\n",
    "    ratings=10,\n",
    "    verbose=True,\n",
    "    device=\"cpu\", # CUDA is not available\n",
    "    n_hidden=200,\n",
    "    batch_size=bs,\n",
    "    learning_rate=1e-6,\n",
    "    early_stopping=True,\n",
    "    #momentum=0.3\n",
    ")\n",
    "otherRbm.data = dataset\n",
    "nonTrained.data = dataset\n",
    "otherRbm.load_model_from_file(\"rbm.pt\")\n",
    "\n",
    "print(otherRbm.calculate_errors('test'))\n",
    "print(nonTrained.calculate_errors('test'))"
   ]
  }
 ],
 "metadata": {
  "kernelspec": {
   "display_name": "Python 3.8.10 ('master')",
   "language": "python",
   "name": "python3"
  },
  "language_info": {
   "codemirror_mode": {
    "name": "ipython",
    "version": 3
   },
   "file_extension": ".py",
   "mimetype": "text/x-python",
   "name": "python",
   "nbconvert_exporter": "python",
   "pygments_lexer": "ipython3",
   "version": "3.8.10"
  },
  "orig_nbformat": 4,
  "vscode": {
   "interpreter": {
    "hash": "d455cf6aac0e24a365e2bb9047524329b9a2afd5e2a351689ff84ea1d2030951"
   }
  }
 },
 "nbformat": 4,
 "nbformat_minor": 2
}
