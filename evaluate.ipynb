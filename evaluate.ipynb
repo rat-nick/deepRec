{
 "cells": [
  {
   "cell_type": "code",
   "execution_count": 1,
   "metadata": {},
   "outputs": [
    {
     "name": "stdout",
     "output_type": "stream",
     "text": [
      "CUDA available! Setting default tensor type to cuda.FloatTensor\n",
      "The links parameter aren't initialized!\n"
     ]
    }
   ],
   "source": [
    "from data.EvaluationData import EvaluationData\n",
    "from data.dataset import MyDataset\n",
    "\n",
    "dataset = MyDataset('ml-1m', device='cuda')\n",
    "\n",
    "evaluation = EvaluationData(dataset)"
   ]
  },
  {
   "cell_type": "code",
   "execution_count": 2,
   "metadata": {},
   "outputs": [],
   "source": [
    "from rbm.engine import Engine as RBMEngine\n",
    "from rbm.model import Model as RBM\n",
    "\n",
    "rbm = RBM(visible_shape=(dataset.nItems, 5), hidden_shape=(200,), device=\"cuda\", path=\"rbm/rbm.pt\",)"
   ]
  },
  {
   "cell_type": "code",
   "execution_count": 3,
   "metadata": {},
   "outputs": [],
   "source": [
    "from Evaluator import Evaluator\n",
    "rbmEngine = RBMEngine(rbm, dataset)\n",
    "dataset.trainTestValidationSplit()\n",
    "\n",
    "evaluator = Evaluator(rbmEngine, dataset)"
   ]
  },
  {
   "cell_type": "code",
   "execution_count": 4,
   "metadata": {},
   "outputs": [
    {
     "name": "stdout",
     "output_type": "stream",
     "text": [
      "Evaluation@1:{'recall': 0.013245033112582781, 'precision': 0.013245033112582781, 'f1': 0.013245033112582781, 'ndcg': 0.013245033112582781}\n",
      "Evaluation@5:{'recall': 0.05033112582781445, 'precision': 0.05033112582781445, 'f1': 0.05033112582781445, 'ndcg': 0.032148261580875984}\n",
      "Evaluation@10:{'recall': 0.09077380952380981, 'precision': 0.0900662251655632, 'f1': 0.09035630198402152, 'ndcg': 0.04414689224809382}\n",
      "Evaluation@20:{'recall': 0.13296009307045126, 'precision': 0.12425496688741705, 'f1': 0.12735369532628601, 'ndcg': 0.055012575451312766}\n",
      "Evaluation@50:{'recall': 0.2159954461860493, 'precision': 0.15218543046357613, 'f1': 0.16932895201974474, 'ndcg': 0.07382102219006222}\n",
      "Evaluation@100:{'recall': 0.30111531174438216, 'precision': 0.14970198675496676, 'f1': 0.18034154877597577, 'ndcg': 0.09236963475069034}\n"
     ]
    }
   ],
   "source": [
    "for k in [1,5,10,20,50,100]:\n",
    "    print(f\"Evaluation@{k}:{evaluator.evaluate_on_held_out_ratings(k)}\")"
   ]
  },
  {
   "cell_type": "code",
   "execution_count": 5,
   "metadata": {},
   "outputs": [
    {
     "name": "stdout",
     "output_type": "stream",
     "text": [
      "Evaluation@1:{'recall': 0.008278145695364239, 'precision': 0.008278145695364239, 'f1': 0.008278145695364239, 'ndcg': 0.008278145695364239}\n",
      "Evaluation@5:{'recall': 0.036423841059602585, 'precision': 0.036423841059602585, 'f1': 0.036423841059602585, 'ndcg': 0.023840674783229633}\n",
      "Evaluation@10:{'recall': 0.06802336276674047, 'precision': 0.06788079470198696, 'f1': 0.06794469617753013, 'ndcg': 0.03285084773617206}\n",
      "Evaluation@20:{'recall': 0.12349295753619104, 'precision': 0.1174668874172184, 'f1': 0.11977436163104992, 'ndcg': 0.0474101189743179}\n",
      "Evaluation@50:{'recall': 0.1971456960957294, 'precision': 0.146523178807947, 'f1': 0.1607033789483062, 'ndcg': 0.0636823090361476}\n",
      "Evaluation@100:{'recall': 0.2792681951046587, 'precision': 0.15458609271523172, 'f1': 0.1818458466014817, 'ndcg': 0.08108450115908857}\n"
     ]
    }
   ],
   "source": [
    "for k in [1,5,10,20,50,100]:\n",
    "    print(f\"Evaluation@{k}:{evaluator.evaluate(k)}\")\n",
    "    "
   ]
  }
 ],
 "metadata": {
  "kernelspec": {
   "display_name": "master",
   "language": "python",
   "name": "python3"
  },
  "language_info": {
   "codemirror_mode": {
    "name": "ipython",
    "version": 3
   },
   "file_extension": ".py",
   "mimetype": "text/x-python",
   "name": "python",
   "nbconvert_exporter": "python",
   "pygments_lexer": "ipython3",
   "version": "3.8.10"
  },
  "orig_nbformat": 4,
  "vscode": {
   "interpreter": {
    "hash": "d455cf6aac0e24a365e2bb9047524329b9a2afd5e2a351689ff84ea1d2030951"
   }
  }
 },
 "nbformat": 4,
 "nbformat_minor": 2
}
