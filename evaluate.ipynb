{
 "cells": [
  {
   "cell_type": "code",
   "execution_count": 1,
   "metadata": {},
   "outputs": [
    {
     "name": "stdout",
     "output_type": "stream",
     "text": [
      "CUDA available! Setting default tensor type to cuda.FloatTensor\n",
      "The links parameter aren't initialized!\n"
     ]
    }
   ],
   "source": [
    "from data.EvaluationData import EvaluationData\n",
    "from data.dataset import MyDataset\n",
    "\n",
    "dataset = MyDataset(\"ml-1m\", device=\"cuda\")\n",
    "\n",
    "evaluation = EvaluationData(dataset)"
   ]
  },
  {
   "cell_type": "code",
   "execution_count": 2,
   "metadata": {},
   "outputs": [],
   "source": [
    "from rbm.engine import Engine as RBMEngine\n",
    "from rbm.model import Model as RBM\n",
    "\n",
    "rbm = RBM(\n",
    "    visible_shape=(dataset.nItems, 5),\n",
    "    hidden_shape=(200,),\n",
    "    device=\"cuda\",\n",
    "    path=\"rbm/rbm.pt\",\n",
    ")"
   ]
  },
  {
   "cell_type": "code",
   "execution_count": 3,
   "metadata": {},
   "outputs": [],
   "source": [
    "from Evaluator import Evaluator\n",
    "\n",
    "rbmEngine = RBMEngine(rbm, dataset)\n",
    "dataset.trainTestValidationSplit()\n",
    "\n",
    "evaluator = Evaluator(rbmEngine, dataset)"
   ]
  },
  {
   "cell_type": "code",
   "execution_count": 4,
   "metadata": {},
   "outputs": [
    {
     "name": "stdout",
     "output_type": "stream",
     "text": [
      "Evaluation@1:{'recall': 0.018211920529801324, 'precision': 0.018211920529801324, 'f1': 0.018211920529801324, 'ndcg': 0.018211920529801324}\n",
      "Evaluation@5:{'recall': 0.05670529801324494, 'precision': 0.05662251655629129, 'f1': 0.05665930831493736, 'ndcg': 0.03213684543051524}\n",
      "Evaluation@10:{'recall': 0.08801245663828487, 'precision': 0.08741721854304678, 'f1': 0.08762486172579913, 'ndcg': 0.04285053584075795}\n",
      "Evaluation@20:{'recall': 0.13578032716599395, 'precision': 0.1296357615894039, 'f1': 0.1319445433504165, 'ndcg': 0.053788475537509005}\n",
      "Evaluation@50:{'recall': 0.2154158318236781, 'precision': 0.15834437086092717, 'f1': 0.17381970235342017, 'ndcg': 0.07231798921732803}\n",
      "Evaluation@100:{'recall': 0.30030161452399384, 'precision': 0.15665562913907297, 'f1': 0.18645088489331355, 'ndcg': 0.09065029615769486}\n"
     ]
    }
   ],
   "source": [
    "for k in [1, 5, 10, 20, 50, 100]:\n",
    "    print(f\"Evaluation@{k}:{evaluator.evaluate_on_held_out_ratings(k)}\")"
   ]
  },
  {
   "cell_type": "code",
   "execution_count": null,
   "metadata": {},
   "outputs": [],
   "source": []
  },
  {
   "cell_type": "code",
   "execution_count": 5,
   "metadata": {},
   "outputs": [
    {
     "name": "stdout",
     "output_type": "stream",
     "text": [
      "Evaluation@1:{'recall': 0.004966887417218543, 'precision': 0.004966887417218543, 'f1': 0.004966887417218543, 'ndcg': 0.004966887417218543}\n",
      "Evaluation@5:{'recall': 0.031456953642384065, 'precision': 0.031456953642384065, 'f1': 0.031456953642384065, 'ndcg': 0.019656990342532828}\n",
      "Evaluation@10:{'recall': 0.07580679070745332, 'precision': 0.0756622516556295, 'f1': 0.07572632399073292, 'ndcg': 0.035344251478824536}\n",
      "Evaluation@20:{'recall': 0.1304443270272851, 'precision': 0.12574503311258242, 'f1': 0.12750297085337228, 'ndcg': 0.049633613127749374}\n",
      "Evaluation@50:{'recall': 0.2013494066158055, 'precision': 0.1545033112582781, 'f1': 0.16781097659723077, 'ndcg': 0.06485931429521057}\n",
      "Evaluation@100:{'recall': 0.2799197410015852, 'precision': 0.16089403973509922, 'f1': 0.18721130807193692, 'ndcg': 0.08134416979432624}\n"
     ]
    }
   ],
   "source": [
    "for k in [1, 5, 10, 20, 50, 100]:\n",
    "    print(f\"Evaluation@{k}:{evaluator.evaluate(k)}\")"
   ]
  }
 ],
 "metadata": {
  "kernelspec": {
   "display_name": "master",
   "language": "python",
   "name": "python3"
  },
  "language_info": {
   "codemirror_mode": {
    "name": "ipython",
    "version": 3
   },
   "file_extension": ".py",
   "mimetype": "text/x-python",
   "name": "python",
   "nbconvert_exporter": "python",
   "pygments_lexer": "ipython3",
   "version": "3.8.10 (default, Nov 14 2022, 12:59:47) \n[GCC 9.4.0]"
  },
  "orig_nbformat": 4,
  "vscode": {
   "interpreter": {
    "hash": "d455cf6aac0e24a365e2bb9047524329b9a2afd5e2a351689ff84ea1d2030951"
   }
  }
 },
 "nbformat": 4,
 "nbformat_minor": 2
}
