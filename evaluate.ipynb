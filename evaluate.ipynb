{
 "cells": [
  {
   "cell_type": "code",
   "execution_count": 1,
   "metadata": {},
   "outputs": [],
   "source": [
    "from recommender.model.RBM import RBM\n",
    "rbm = RBM()\n",
    "rbm.load_model_from_file('rbm1673621667.427087.pt')"
   ]
  },
  {
   "cell_type": "code",
   "execution_count": 2,
   "metadata": {},
   "outputs": [
    {
     "name": "stdout",
     "output_type": "stream",
     "text": [
      "The links parameter aren't initialized!\n"
     ]
    }
   ],
   "source": [
    "from data.EvaluationData import EvaluationData\n",
    "from data.dataset import MyDataset\n",
    "\n",
    "dataset = MyDataset('ml-1m')\n",
    "\n",
    "evaluation = EvaluationData(dataset)"
   ]
  },
  {
   "cell_type": "code",
   "execution_count": 3,
   "metadata": {},
   "outputs": [],
   "source": [
    "from __future__ import absolute_import\n",
    "from recommender.algo.RBMAlgorithm import RBMAlgorithm\n",
    "from Evaluator import Evaluator\n",
    "from recommender.model.RBM import RBM\n",
    "\n",
    "rbmAlgo = RBMAlgorithm(dataset = dataset, model=rbm)\n",
    "\n",
    "dataset.trainTestValidationSplit()\n",
    "\n",
    "evaluator = Evaluator(rbmAlgo, dataset)\n"
   ]
  },
  {
   "cell_type": "code",
   "execution_count": 4,
   "metadata": {},
   "outputs": [
    {
     "name": "stdout",
     "output_type": "stream",
     "text": [
      "k=1:{'recall': 0.004685718896012126, 'precision': 0.2764900662251656}\n",
      "k=5:{'recall': 0.023773966379624156, 'precision': 0.2801324503311257}\n",
      "k=10:{'recall': 0.049977186254238026, 'precision': 0.2731788079470195}\n",
      "k=20:{'recall': 0.08007269221086401, 'precision': 0.23990066225165546}\n",
      "k=50:{'recall': 0.15285668507028952, 'precision': 0.20725165562913933}\n",
      "k=100:{'recall': 0.25079130450871195, 'precision': 0.18556291390728485}\n"
     ]
    }
   ],
   "source": [
    "print(f\"k=1:{evaluator.evaluate(k=1)}\")\n",
    "print(f\"k=5:{evaluator.evaluate(k=5)}\")\n",
    "print(f\"k=10:{evaluator.evaluate(k=10)}\")\n",
    "print(f\"k=20:{evaluator.evaluate(k=20)}\")\n",
    "print(f\"k=50:{evaluator.evaluate(k=50)}\")\n",
    "print(f\"k=100:{evaluator.evaluate(k=100)}\")"
   ]
  }
 ],
 "metadata": {
  "kernelspec": {
   "display_name": "env",
   "language": "python",
   "name": "python3"
  },
  "language_info": {
   "codemirror_mode": {
    "name": "ipython",
    "version": 3
   },
   "file_extension": ".py",
   "mimetype": "text/x-python",
   "name": "python",
   "nbconvert_exporter": "python",
   "pygments_lexer": "ipython3",
   "version": "3.8.10"
  },
  "orig_nbformat": 4,
  "vscode": {
   "interpreter": {
    "hash": "888dea709b3770e92a6f0e7ba5ac755abc965259ee652d7f5a19dc79535326db"
   }
  }
 },
 "nbformat": 4,
 "nbformat_minor": 2
}
