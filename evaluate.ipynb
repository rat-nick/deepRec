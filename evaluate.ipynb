{
 "cells": [
  {
   "cell_type": "code",
   "execution_count": 1,
   "metadata": {},
   "outputs": [
    {
     "name": "stdout",
     "output_type": "stream",
     "text": [
      "The links parameter aren't initialized!\n"
     ]
    }
   ],
   "source": [
    "from data.EvaluationData import EvaluationData\n",
    "from data.dataset import MyDataset\n",
    "\n",
    "dataset = MyDataset('ml-100k')\n",
    "\n",
    "evaluation = EvaluationData(dataset)"
   ]
  },
  {
   "cell_type": "code",
   "execution_count": 2,
   "metadata": {},
   "outputs": [],
   "source": [
    "from rbm.engine import Engine as RBMEngine\n",
    "from rbm.model import Model as RBM\n",
    "\n",
    "rbm = RBM(visible_shape=(dataset.nItems, 5), hidden_shape=(100,), device=\"cpu\", path=\"rbm/rbm.pt\",)"
   ]
  },
  {
   "cell_type": "code",
   "execution_count": 3,
   "metadata": {},
   "outputs": [],
   "source": [
    "from Evaluator import Evaluator\n",
    "rbmEngine = RBMEngine(rbm, dataset)\n",
    "dataset.trainTestValidationSplit()\n",
    "\n",
    "evaluator = Evaluator(rbmEngine, dataset)\n"
   ]
  },
  {
   "cell_type": "code",
   "execution_count": 4,
   "metadata": {},
   "outputs": [
    {
     "name": "stdout",
     "output_type": "stream",
     "text": [
      "k=1:{'recall': 0.0005397977191360733, 'precision': 0.05263157894736842}\n",
      "k=5:{'recall': 0.0047109549769743415, 'precision': 0.08000000000000003}\n",
      "k=10:{'recall': 0.008948002742936549, 'precision': 0.07684210526315785}\n",
      "k=20:{'recall': 0.017120139099876596, 'precision': 0.0726315789473684}\n",
      "k=50:{'recall': 0.04448125374436468, 'precision': 0.07178947368421047}\n",
      "k=100:{'recall': 0.0735431135800262, 'precision': 0.061157894736842064}\n"
     ]
    }
   ],
   "source": [
    "print(f\"k=1:{evaluator.evaluate(k=1)}\")\n",
    "print(f\"k=5:{evaluator.evaluate(k=5)}\")\n",
    "print(f\"k=10:{evaluator.evaluate(k=10)}\")\n",
    "print(f\"k=20:{evaluator.evaluate(k=20)}\")\n",
    "print(f\"k=50:{evaluator.evaluate(k=50)}\")\n",
    "print(f\"k=100:{evaluator.evaluate(k=100)}\")"
   ]
  }
 ],
 "metadata": {
  "kernelspec": {
   "display_name": "env",
   "language": "python",
   "name": "python3"
  },
  "language_info": {
   "codemirror_mode": {
    "name": "ipython",
    "version": 3
   },
   "file_extension": ".py",
   "mimetype": "text/x-python",
   "name": "python",
   "nbconvert_exporter": "python",
   "pygments_lexer": "ipython3",
   "version": "3.8.10"
  },
  "orig_nbformat": 4,
  "vscode": {
   "interpreter": {
    "hash": "888dea709b3770e92a6f0e7ba5ac755abc965259ee652d7f5a19dc79535326db"
   }
  }
 },
 "nbformat": 4,
 "nbformat_minor": 2
}
