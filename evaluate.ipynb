{
 "cells": [
  {
   "cell_type": "code",
   "execution_count": 16,
   "metadata": {},
   "outputs": [],
   "source": [
    "from recommender.model.RBM import RBM\n",
    "rbm = RBM(10)\n",
    "rbm.load_model_from_file('rbm.pt')"
   ]
  },
  {
   "cell_type": "code",
   "execution_count": 17,
   "metadata": {},
   "outputs": [],
   "source": [
    "from data.EvaluationData import EvaluationData\n",
    "from data.dataset import MyDataset\n",
    "\n",
    "dataset = MyDataset(\n",
    "    data_dir=\"ml-10m\",\n",
    "    ratings_path=\"ratings.dat\",\n",
    "    ratings_sep=\"::\",\n",
    "    items_path=\"movies.dat\",\n",
    "    items_sep=\"::\",\n",
    ")\n",
    "\n",
    "evaluation = EvaluationData(dataset)"
   ]
  },
  {
   "cell_type": "code",
   "execution_count": 18,
   "metadata": {},
   "outputs": [],
   "source": [
    "from recommender.algo.RBMAlgorithm import RBMAlgorithm\n",
    "from Evaluator import Evaluator\n",
    "from recommender.model.RBM import RBM\n",
    "model = RBM(0)\n",
    "model.load_model_from_file(\"rbm.pt\")\n",
    "rbmAlgo = RBMAlgorithm(dataset = dataset, model=model)\n",
    "\n",
    "dataset.trainTestValidationSplit()\n",
    "\n",
    "evaluator = Evaluator(rbmAlgo, dataset)\n"
   ]
  },
  {
   "cell_type": "code",
   "execution_count": 22,
   "metadata": {},
   "outputs": [
    {
     "name": "stdout",
     "output_type": "stream",
     "text": [
      "k=1:{'recall': 0.0038100880992035513, 'precision': 0.4519867549668874}\n",
      "k=5:{'recall': 0.020376395623483604, 'precision': 0.4566225165562915}\n",
      "k=10:{'recall': 0.038883228426968855, 'precision': 0.4347682119205294}\n",
      "k=20:{'recall': 0.0703534798670186, 'precision': 0.40165562913907293}\n",
      "k=50:{'recall': 0.15279854682983876, 'precision': 0.3618874172185435}\n",
      "k=100:{'recall': 0.23540458971914763, 'precision': 0.29567880794701995}\n"
     ]
    }
   ],
   "source": [
    "print(f\"k=1:{evaluator.evaluate(k=1)}\")\n",
    "print(f\"k=5:{evaluator.evaluate(k=5)}\")\n",
    "print(f\"k=10:{evaluator.evaluate(k=10)}\")\n",
    "print(f\"k=20:{evaluator.evaluate(k=20)}\")\n",
    "print(f\"k=50:{evaluator.evaluate(k=50)}\")\n",
    "print(f\"k=100:{evaluator.evaluate(k=100)}\")"
   ]
  }
 ],
 "metadata": {
  "kernelspec": {
   "display_name": "Python 3.8.10 ('master')",
   "language": "python",
   "name": "python3"
  },
  "language_info": {
   "codemirror_mode": {
    "name": "ipython",
    "version": 3
   },
   "file_extension": ".py",
   "mimetype": "text/x-python",
   "name": "python",
   "nbconvert_exporter": "python",
   "pygments_lexer": "ipython3",
   "version": "3.8.10"
  },
  "orig_nbformat": 4,
  "vscode": {
   "interpreter": {
    "hash": "d455cf6aac0e24a365e2bb9047524329b9a2afd5e2a351689ff84ea1d2030951"
   }
  }
 },
 "nbformat": 4,
 "nbformat_minor": 2
}
