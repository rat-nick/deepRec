{
 "cells": [
  {
   "cell_type": "code",
   "execution_count": 1,
   "metadata": {},
   "outputs": [],
   "source": [
    "from recommender.model.RBM import RBM\n",
    "rbm = RBM(10)\n",
    "rbm.load_model_from_file('rbm1672767522.2462983.pt')"
   ]
  },
  {
   "cell_type": "code",
   "execution_count": 2,
   "metadata": {},
   "outputs": [
    {
     "name": "stdout",
     "output_type": "stream",
     "text": [
      "CUDA available! Setting default tensor type to cuda.FloatTensor\n"
     ]
    }
   ],
   "source": [
    "from data.EvaluationData import EvaluationData\n",
    "from data.dataset import MyDataset\n",
    "\n",
    "dataset = MyDataset(\n",
    "    data_dir=\"ml-100k\",\n",
    "    ratings_path=\"u.data\",\n",
    "    ratings_sep=\"\\t\",\n",
    "    items_path=\"\",\n",
    "    items_sep=\"::\",\n",
    ")\n",
    "\n",
    "evaluation = EvaluationData(dataset)"
   ]
  },
  {
   "cell_type": "code",
   "execution_count": 5,
   "metadata": {},
   "outputs": [
    {
     "ename": "ValueError",
     "evalue": "attempted relative import beyond top-level package",
     "output_type": "error",
     "traceback": [
      "\u001b[0;31m---------------------------------------------------------------------------\u001b[0m",
      "\u001b[0;31mValueError\u001b[0m                                Traceback (most recent call last)",
      "Cell \u001b[0;32mIn [5], line 1\u001b[0m\n\u001b[0;32m----> 1\u001b[0m \u001b[39mfrom\u001b[39;00m \u001b[39mrecommender\u001b[39;00m\u001b[39m.\u001b[39;00m\u001b[39malgo\u001b[39;00m\u001b[39m.\u001b[39;00m\u001b[39mRBMAlgorithm\u001b[39;00m \u001b[39mimport\u001b[39;00m RBMAlgorithm\n\u001b[1;32m      2\u001b[0m \u001b[39mfrom\u001b[39;00m \u001b[39mEvaluator\u001b[39;00m \u001b[39mimport\u001b[39;00m Evaluator\n\u001b[1;32m      3\u001b[0m \u001b[39mfrom\u001b[39;00m \u001b[39mrecommender\u001b[39;00m\u001b[39m.\u001b[39;00m\u001b[39mmodel\u001b[39;00m\u001b[39m.\u001b[39;00m\u001b[39mRBM\u001b[39;00m \u001b[39mimport\u001b[39;00m RBM\n",
      "File \u001b[0;32m~/master-rad/recommender/algo/RBMAlgorithm.py:9\u001b[0m\n\u001b[1;32m      6\u001b[0m \u001b[39mfrom\u001b[39;00m \u001b[39msurprise\u001b[39;00m\u001b[39m.\u001b[39;00m\u001b[39mmodel_selection\u001b[39;00m \u001b[39mimport\u001b[39;00m ShuffleSplit\n\u001b[1;32m      8\u001b[0m \u001b[39mfrom\u001b[39;00m \u001b[39m.\u001b[39;00m\u001b[39m.\u001b[39;00m\u001b[39mutils\u001b[39;00m\u001b[39m.\u001b[39;00m\u001b[39mtensors\u001b[39;00m \u001b[39mimport\u001b[39;00m \u001b[39m*\u001b[39m\n\u001b[0;32m----> 9\u001b[0m \u001b[39mfrom\u001b[39;00m \u001b[39m.\u001b[39;00m\u001b[39m.\u001b[39;00m\u001b[39m.\u001b[39;00m\u001b[39mdata\u001b[39;00m\u001b[39m.\u001b[39;00m\u001b[39mdataset\u001b[39;00m \u001b[39mimport\u001b[39;00m MyDataset\n\u001b[1;32m     12\u001b[0m \u001b[39mclass\u001b[39;00m \u001b[39mRBMAlgorithm\u001b[39;00m(RecommenderBase):\n\u001b[1;32m     13\u001b[0m     \u001b[39mdef\u001b[39;00m \u001b[39m__init__\u001b[39m(\n\u001b[1;32m     14\u001b[0m         \u001b[39mself\u001b[39m,\n\u001b[1;32m     15\u001b[0m         dataset: MyDataset,\n\u001b[1;32m     16\u001b[0m         model: RBM,\n\u001b[1;32m     17\u001b[0m         model_path\u001b[39m=\u001b[39m\u001b[39m\"\u001b[39m\u001b[39m\"\u001b[39m,\n\u001b[1;32m     18\u001b[0m     ):\n",
      "\u001b[0;31mValueError\u001b[0m: attempted relative import beyond top-level package"
     ]
    }
   ],
   "source": [
    "from recommender.algo.RBMAlgorithm import RBMAlgorithm\n",
    "from Evaluator import Evaluator\n",
    "from recommender.model.RBM import RBM\n",
    "model = RBM(0)\n",
    "model.load_model_from_file(\"rbm1672767522.2462983.pt\")\n",
    "rbmAlgo = RBMAlgorithm(dataset = dataset, model=model)\n",
    "\n",
    "dataset.trainTestValidationSplit()\n",
    "\n",
    "evaluator = Evaluator(rbmAlgo, dataset)\n"
   ]
  },
  {
   "cell_type": "code",
   "execution_count": 4,
   "metadata": {},
   "outputs": [
    {
     "ename": "NameError",
     "evalue": "name 'evaluator' is not defined",
     "output_type": "error",
     "traceback": [
      "\u001b[0;31m---------------------------------------------------------------------------\u001b[0m",
      "\u001b[0;31mNameError\u001b[0m                                 Traceback (most recent call last)",
      "Cell \u001b[0;32mIn [4], line 1\u001b[0m\n\u001b[0;32m----> 1\u001b[0m \u001b[39mprint\u001b[39m(\u001b[39mf\u001b[39m\u001b[39m\"\u001b[39m\u001b[39mk=1:\u001b[39m\u001b[39m{\u001b[39;00mevaluator\u001b[39m.\u001b[39mevaluate(k\u001b[39m=\u001b[39m\u001b[39m1\u001b[39m)\u001b[39m}\u001b[39;00m\u001b[39m\"\u001b[39m)\n\u001b[1;32m      2\u001b[0m \u001b[39mprint\u001b[39m(\u001b[39mf\u001b[39m\u001b[39m\"\u001b[39m\u001b[39mk=5:\u001b[39m\u001b[39m{\u001b[39;00mevaluator\u001b[39m.\u001b[39mevaluate(k\u001b[39m=\u001b[39m\u001b[39m5\u001b[39m)\u001b[39m}\u001b[39;00m\u001b[39m\"\u001b[39m)\n\u001b[1;32m      3\u001b[0m \u001b[39mprint\u001b[39m(\u001b[39mf\u001b[39m\u001b[39m\"\u001b[39m\u001b[39mk=10:\u001b[39m\u001b[39m{\u001b[39;00mevaluator\u001b[39m.\u001b[39mevaluate(k\u001b[39m=\u001b[39m\u001b[39m10\u001b[39m)\u001b[39m}\u001b[39;00m\u001b[39m\"\u001b[39m)\n",
      "\u001b[0;31mNameError\u001b[0m: name 'evaluator' is not defined"
     ]
    }
   ],
   "source": [
    "print(f\"k=1:{evaluator.evaluate(k=1)}\")\n",
    "print(f\"k=5:{evaluator.evaluate(k=5)}\")\n",
    "print(f\"k=10:{evaluator.evaluate(k=10)}\")\n",
    "print(f\"k=20:{evaluator.evaluate(k=20)}\")\n",
    "print(f\"k=50:{evaluator.evaluate(k=50)}\")\n",
    "print(f\"k=100:{evaluator.evaluate(k=100)}\")"
   ]
  }
 ],
 "metadata": {
  "kernelspec": {
   "display_name": "Python 3.8.10 ('master')",
   "language": "python",
   "name": "python3"
  },
  "language_info": {
   "codemirror_mode": {
    "name": "ipython",
    "version": 3
   },
   "file_extension": ".py",
   "mimetype": "text/x-python",
   "name": "python",
   "nbconvert_exporter": "python",
   "pygments_lexer": "ipython3",
   "version": "3.8.10 (default, Nov 14 2022, 12:59:47) \n[GCC 9.4.0]"
  },
  "orig_nbformat": 4,
  "vscode": {
   "interpreter": {
    "hash": "d455cf6aac0e24a365e2bb9047524329b9a2afd5e2a351689ff84ea1d2030951"
   }
  }
 },
 "nbformat": 4,
 "nbformat_minor": 2
}
