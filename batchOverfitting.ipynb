{
 "cells": [
  {
   "cell_type": "code",
   "execution_count": 1,
   "metadata": {},
   "outputs": [
    {
     "name": "stdout",
     "output_type": "stream",
     "text": [
      "Succesfully read data!\n",
      "Performed data split!\n"
     ]
    }
   ],
   "source": [
    "from data.dataset import MyDataset\n",
    "\n",
    "dataset = MyDataset(\n",
    "    data_dir=\"ml-1m\",\n",
    "    ratings_path=\"ratings.dat\",\n",
    "    ratings_sep=\"::\",\n",
    "    items_path=\"movies.dat\",\n",
    "    items_sep=\"::\",\n",
    ")\n",
    "print(\"Succesfully read data!\")\n",
    "dataset.trainTestValidationSplit()\n",
    "print(\"Performed data split!\")"
   ]
  },
  {
   "cell_type": "code",
   "execution_count": 15,
   "metadata": {},
   "outputs": [
    {
     "name": "stdout",
     "output_type": "stream",
     "text": [
      "3.67853\t2.69210\n",
      "2.69732\t1.80836\n",
      "2.69732\t1.80836\n",
      "2.29138\t1.48593\n",
      "2.29138\t1.48593\n",
      "2.29138\t1.48593\n",
      "2.29138\t1.48593\n",
      "2.29138\t1.48593\n",
      "2.29138\t1.48593\n",
      "2.29138\t1.48593\n",
      "2.29138\t1.48593\n",
      "2.29138\t1.48593\n",
      "2.29138\t1.48593\n",
      "2.29138\t1.48593\n",
      "2.29138\t1.48593\n",
      "2.29138\t1.48593\n",
      "2.29138\t1.48593\n",
      "2.29138\t1.48593\n",
      "2.29138\t1.48593\n",
      "2.29138\t1.48593\n"
     ]
    }
   ],
   "source": [
    "from recommender.model.RBM import RBM\n",
    "import math\n",
    "\n",
    "model = RBM(dataset.nItems, 10, n_hidden=500, device='cpu', learning_rate=1e-6)\n",
    "batch = next(dataset.batches(dataset.trainData, 128))\n",
    "\n",
    "for i in range(20):\n",
    "    model.apply_gradient(batch)\n",
    "    se, ae, n = model.batch_error(batch)\n",
    "    rmse = math.sqrt(se / n)\n",
    "    mae = ae / n\n",
    "    print(\"{:.5f}\".format(rmse), end='\\t')\n",
    "    print(\"{:.5f}\".format(mae))"
   ]
  }
 ],
 "metadata": {
  "kernelspec": {
   "display_name": "Python 3.8.10 ('master')",
   "language": "python",
   "name": "python3"
  },
  "language_info": {
   "codemirror_mode": {
    "name": "ipython",
    "version": 3
   },
   "file_extension": ".py",
   "mimetype": "text/x-python",
   "name": "python",
   "nbconvert_exporter": "python",
   "pygments_lexer": "ipython3",
   "version": "3.8.10"
  },
  "orig_nbformat": 4,
  "vscode": {
   "interpreter": {
    "hash": "d455cf6aac0e24a365e2bb9047524329b9a2afd5e2a351689ff84ea1d2030951"
   }
  }
 },
 "nbformat": 4,
 "nbformat_minor": 2
}
