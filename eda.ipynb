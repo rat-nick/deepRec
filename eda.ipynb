{
 "cells": [
  {
   "cell_type": "code",
   "execution_count": 1,
   "metadata": {},
   "outputs": [
    {
     "name": "stdout",
     "output_type": "stream",
     "text": [
      "CUDA available! Setting default tensor type to cuda.FloatTensor\n",
      "The links parameter aren't initialized!\n"
     ]
    }
   ],
   "source": [
    "import pandas as pd\n",
    "from data.dataset import MyDataset as Dataset\n",
    "\n",
    "dataset = Dataset('ml-1m')"
   ]
  },
  {
   "cell_type": "code",
   "execution_count": 2,
   "metadata": {},
   "outputs": [
    {
     "name": "stdout",
     "output_type": "stream",
     "text": [
      "There are 6040 unique users in the dataset\n",
      "There are 3706 unique items in the dataset\n"
     ]
    }
   ],
   "source": [
    "df = dataset.innerRatingsDF\n",
    "unique_users = len(df['user'].unique())\n",
    "unique_items = len(df['item'].unique())\n",
    "\n",
    "print(f\"There are {unique_users} unique users in the dataset\")\n",
    "print(f\"There are {unique_items} unique items in the dataset\")"
   ]
  },
  {
   "cell_type": "code",
   "execution_count": 3,
   "metadata": {},
   "outputs": [
    {
     "name": "stdout",
     "output_type": "stream",
     "text": [
      "Users rate an average of 165.5973509933775 items in the dataset\n"
     ]
    }
   ],
   "source": [
    "average_ratings = df['user'].value_counts().mean()\n",
    "print(f\"Users rate an average of {average_ratings} items in the dataset\")"
   ]
  },
  {
   "cell_type": "code",
   "execution_count": 6,
   "metadata": {},
   "outputs": [
    {
     "name": "stdout",
     "output_type": "stream",
     "text": [
      "10\n",
      "20\n",
      "Users rate an average of 165.46685449121645 items in the dataset\n"
     ]
    }
   ],
   "source": [
    "df = df.groupby('item').filter(lambda x: len(x) >= 10)\n",
    "df = df.groupby('user').filter(lambda x: len(x) >= 20)\n",
    "print(df['item'].value_counts().min())\n",
    "print(df['user'].value_counts().min())\n",
    "average_ratings = df['user'].value_counts().mean()\n",
    "print(f\"Users rate an average of {average_ratings} items in the dataset\")"
   ]
  },
  {
   "cell_type": "code",
   "execution_count": 8,
   "metadata": {},
   "outputs": [
    {
     "name": "stdout",
     "output_type": "stream",
     "text": [
      "3260\n",
      "6034\n"
     ]
    }
   ],
   "source": [
    "print(len(df['item'].unique()))\n",
    "print(len(df['user'].unique()))"
   ]
  }
 ],
 "metadata": {
  "kernelspec": {
   "display_name": "master",
   "language": "python",
   "name": "python3"
  },
  "language_info": {
   "codemirror_mode": {
    "name": "ipython",
    "version": 3
   },
   "file_extension": ".py",
   "mimetype": "text/x-python",
   "name": "python",
   "nbconvert_exporter": "python",
   "pygments_lexer": "ipython3",
   "version": "3.8.10"
  },
  "orig_nbformat": 4,
  "vscode": {
   "interpreter": {
    "hash": "d455cf6aac0e24a365e2bb9047524329b9a2afd5e2a351689ff84ea1d2030951"
   }
  }
 },
 "nbformat": 4,
 "nbformat_minor": 2
}
